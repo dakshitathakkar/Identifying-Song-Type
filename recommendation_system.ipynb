{
 "cells": [
  {
   "cell_type": "markdown",
   "id": "82d89949-6d90-40f7-9abf-e350b11597e7",
   "metadata": {},
   "source": [
    "# Valence-Arousal-Recommendation System"
   ]
  },
  {
   "cell_type": "markdown",
   "id": "85ce83f8-7587-4624-a090-3929595dd39d",
   "metadata": {},
   "source": [
    "In this notebook, we use a dataset featuring around 1200 Spotify tracks, each with a `valence` and an `energy` value, to build a simple mood-based recommendation system."
   ]
  },
  {
   "cell_type": "code",
   "execution_count": 4,
   "id": "580d4c1d-57b1-4c23-b581-92b1a6c50d14",
   "metadata": {},
   "outputs": [],
   "source": [
    "import pandas as pd\n",
    "import random\n",
    "import authorization\n",
    "import numpy as np\n",
    "from numpy.linalg import norm"
   ]
  },
  {
   "cell_type": "markdown",
   "id": "78e1fa52-1228-440e-b94c-471d24c208ac",
   "metadata": {},
   "source": [
    "## 1. Preparations"
   ]
  },
  {
   "cell_type": "markdown",
   "id": "b177e4ad-190b-44b9-a556-301344f48a9e",
   "metadata": {},
   "source": [
    "__Load Data__"
   ]
  },
  {
   "cell_type": "code",
   "execution_count": 17,
   "id": "bd9a61bb-fbff-49c0-b647-592a5bf365c2",
   "metadata": {},
   "outputs": [
    {
     "name": "stdout",
     "output_type": "stream",
     "text": [
      "(1239, 6)\n"
     ]
    },
    {
     "data": {
      "text/html": [
       "<div>\n",
       "<style scoped>\n",
       "    .dataframe tbody tr th:only-of-type {\n",
       "        vertical-align: middle;\n",
       "    }\n",
       "\n",
       "    .dataframe tbody tr th {\n",
       "        vertical-align: top;\n",
       "    }\n",
       "\n",
       "    .dataframe thead th {\n",
       "        text-align: right;\n",
       "    }\n",
       "</style>\n",
       "<table border=\"1\" class=\"dataframe\">\n",
       "  <thead>\n",
       "    <tr style=\"text-align: right;\">\n",
       "      <th></th>\n",
       "      <th>id</th>\n",
       "      <th>genre</th>\n",
       "      <th>track_name</th>\n",
       "      <th>artist_name</th>\n",
       "      <th>valence</th>\n",
       "      <th>energy</th>\n",
       "    </tr>\n",
       "  </thead>\n",
       "  <tbody>\n",
       "    <tr>\n",
       "      <th>0</th>\n",
       "      <td>3ohNs5SYgwCjnxl8QSjqvR</td>\n",
       "      <td>acoustic</td>\n",
       "      <td>Only Girl (In The World) (feat. Alex Goot)</td>\n",
       "      <td>Boyce Avenue</td>\n",
       "      <td>0.467</td>\n",
       "      <td>0.560</td>\n",
       "    </tr>\n",
       "    <tr>\n",
       "      <th>1</th>\n",
       "      <td>2Gb3up6s243JSVuRRjwQoF</td>\n",
       "      <td>acoustic</td>\n",
       "      <td>Nothing On You / Hey Soul Sister feat. Sam Tsui</td>\n",
       "      <td>Ahmir</td>\n",
       "      <td>0.369</td>\n",
       "      <td>0.698</td>\n",
       "    </tr>\n",
       "    <tr>\n",
       "      <th>2</th>\n",
       "      <td>5Ukzlujip1Slqka5OY82YS</td>\n",
       "      <td>acoustic</td>\n",
       "      <td>U.N.I.</td>\n",
       "      <td>Ed Sheeran</td>\n",
       "      <td>0.578</td>\n",
       "      <td>0.405</td>\n",
       "    </tr>\n",
       "    <tr>\n",
       "      <th>3</th>\n",
       "      <td>1nuqzCMgj2lxZCmpdCmIGv</td>\n",
       "      <td>acoustic</td>\n",
       "      <td>A Lack of Color</td>\n",
       "      <td>Various Artists</td>\n",
       "      <td>0.357</td>\n",
       "      <td>0.337</td>\n",
       "    </tr>\n",
       "    <tr>\n",
       "      <th>4</th>\n",
       "      <td>12jjuxN1gxlm29cqL5M6MW</td>\n",
       "      <td>acoustic</td>\n",
       "      <td>I Got You</td>\n",
       "      <td>Jack Johnson</td>\n",
       "      <td>0.544</td>\n",
       "      <td>0.399</td>\n",
       "    </tr>\n",
       "  </tbody>\n",
       "</table>\n",
       "</div>"
      ],
      "text/plain": [
       "                       id     genre  \\\n",
       "0  3ohNs5SYgwCjnxl8QSjqvR  acoustic   \n",
       "1  2Gb3up6s243JSVuRRjwQoF  acoustic   \n",
       "2  5Ukzlujip1Slqka5OY82YS  acoustic   \n",
       "3  1nuqzCMgj2lxZCmpdCmIGv  acoustic   \n",
       "4  12jjuxN1gxlm29cqL5M6MW  acoustic   \n",
       "\n",
       "                                        track_name      artist_name  valence  \\\n",
       "0       Only Girl (In The World) (feat. Alex Goot)     Boyce Avenue    0.467   \n",
       "1  Nothing On You / Hey Soul Sister feat. Sam Tsui            Ahmir    0.369   \n",
       "2                                           U.N.I.       Ed Sheeran    0.578   \n",
       "3                                  A Lack of Color  Various Artists    0.357   \n",
       "4                                        I Got You     Jack Johnson    0.544   \n",
       "\n",
       "   energy  \n",
       "0   0.560  \n",
       "1   0.698  \n",
       "2   0.405  \n",
       "3   0.337  \n",
       "4   0.399  "
      ]
     },
     "execution_count": 17,
     "metadata": {},
     "output_type": "execute_result"
    }
   ],
   "source": [
    "df = pd.read_csv(\"valence_arousal_dataset.csv\")\n",
    "print(df.shape)\n",
    "df.head()"
   ]
  },
  {
   "cell_type": "markdown",
   "id": "86148598-e2b6-4f5a-880b-2394cb9390eb",
   "metadata": {},
   "source": [
    "In order to compute distances between two tracks, we need to transform the seperate `valence`and `energy` columns to a `mood-vector` column.\n",
    "This can be done by using `df.apply()` alongside a lambda function."
   ]
  },
  {
   "cell_type": "markdown",
   "id": "cc01fd23-c471-47cd-84ed-87810b74f98d",
   "metadata": {},
   "source": [
    "__Create Mood Vector__"
   ]
  },
  {
   "cell_type": "code",
   "execution_count": 18,
   "id": "f68c8b85-fb47-4b3e-9067-fc14298188d1",
   "metadata": {},
   "outputs": [
    {
     "data": {
      "text/plain": [
       "0     [0.467, 0.56]\n",
       "1    [0.369, 0.698]\n",
       "2    [0.578, 0.405]\n",
       "3    [0.357, 0.337]\n",
       "4    [0.544, 0.399]\n",
       "Name: mood_vec, dtype: object"
      ]
     },
     "execution_count": 18,
     "metadata": {},
     "output_type": "execute_result"
    }
   ],
   "source": [
    "df[\"mood_vec\"] = df[[\"valence\", \"energy\"]].values.tolist()\n",
    "df[\"mood_vec\"].head()"
   ]
  },
  {
   "cell_type": "markdown",
   "id": "49daca0b-b6f1-4ed9-a6c4-a8e9c04032be",
   "metadata": {},
   "source": [
    "__Authorize Spotify API Access__"
   ]
  },
  {
   "cell_type": "code",
   "execution_count": 19,
   "id": "9cc71ba4-c757-4bef-84f0-4bfd970e67ab",
   "metadata": {},
   "outputs": [],
   "source": [
    "sp = authorization.authorize() "
   ]
  },
  {
   "cell_type": "markdown",
   "id": "adebb2ff-1508-4d7b-ab56-6cc91357b629",
   "metadata": {},
   "source": [
    "## 2. Recommendation Algorithm"
   ]
  },
  {
   "cell_type": "markdown",
   "id": "babbe272-6c90-4c3f-8465-4fc6a4d562f3",
   "metadata": {},
   "source": [
    "The algorithm that finds similar tracks to a given input track is now very simple. \n",
    "1. Crawl the track's `valence` and `energy` values from the Spotify API.\n",
    "2. Compute the distances of the input track to each track in the reference dataset.\n",
    "3. Sort the reference track from lowest to highest distance.\n",
    "4. Return the `n` most similar tracks."
   ]
  },
  {
   "cell_type": "code",
   "execution_count": 21,
   "id": "8aa3bab0-2ad6-4b01-b0ea-9a369c8e0ed4",
   "metadata": {},
   "outputs": [],
   "source": [
    "def recommend(track_id, ref_df, sp, n_recs = 5):\n",
    "    \n",
    "    # Crawl valence and arousal of given track from spotify api\n",
    "    track_features = sp.track_audio_features(track_id)\n",
    "    track_moodvec = np.array([track_features.valence, track_features.energy])\n",
    "    print(f\"mood_vec for {track_id}: {track_moodvec}\")\n",
    "    \n",
    "    # Compute distances to all reference tracks\n",
    "    ref_df[\"distances\"] = ref_df[\"mood_vec\"].apply(lambda x: norm(track_moodvec-np.array(x)))\n",
    "    # Sort distances from lowest to highest\n",
    "    ref_df_sorted = ref_df.sort_values(by = \"distances\", ascending = True)\n",
    "    # If the input track is in the reference set, it will have a distance of 0, but should not be recommendet\n",
    "    ref_df_sorted = ref_df_sorted[ref_df_sorted[\"id\"] != track_id]\n",
    "    \n",
    "    # Return n recommendations\n",
    "    return ref_df_sorted.iloc[:n_recs]"
   ]
  },
  {
   "cell_type": "markdown",
   "id": "6611c603-045f-4254-b7d1-0799cb8ae8ae",
   "metadata": {},
   "source": [
    "Let us try it out using some random tracks from our dataset."
   ]
  },
  {
   "cell_type": "code",
   "execution_count": 22,
   "id": "ffce8ebc-1370-43ec-8040-430d5b7c80b9",
   "metadata": {},
   "outputs": [
    {
     "name": "stdout",
     "output_type": "stream",
     "text": [
      "mood_vec for 3DkaXDmC0qaFNAxgLMuwX4: [0.2   0.526]\n"
     ]
    },
    {
     "data": {
      "text/html": [
       "<div>\n",
       "<style scoped>\n",
       "    .dataframe tbody tr th:only-of-type {\n",
       "        vertical-align: middle;\n",
       "    }\n",
       "\n",
       "    .dataframe tbody tr th {\n",
       "        vertical-align: top;\n",
       "    }\n",
       "\n",
       "    .dataframe thead th {\n",
       "        text-align: right;\n",
       "    }\n",
       "</style>\n",
       "<table border=\"1\" class=\"dataframe\">\n",
       "  <thead>\n",
       "    <tr style=\"text-align: right;\">\n",
       "      <th></th>\n",
       "      <th>id</th>\n",
       "      <th>genre</th>\n",
       "      <th>track_name</th>\n",
       "      <th>artist_name</th>\n",
       "      <th>valence</th>\n",
       "      <th>energy</th>\n",
       "      <th>mood_vec</th>\n",
       "      <th>distances</th>\n",
       "    </tr>\n",
       "  </thead>\n",
       "  <tbody>\n",
       "    <tr>\n",
       "      <th>546</th>\n",
       "      <td>0ew8oK4Yj8IhqE5Q7vpRvW</td>\n",
       "      <td>house</td>\n",
       "      <td>Eyes - R3hab Remix</td>\n",
       "      <td>Kaskade</td>\n",
       "      <td>0.191</td>\n",
       "      <td>0.525</td>\n",
       "      <td>[0.191, 0.525]</td>\n",
       "      <td>0.009055</td>\n",
       "    </tr>\n",
       "    <tr>\n",
       "      <th>447</th>\n",
       "      <td>2zDADV891HD9xHi6hAnjQ9</td>\n",
       "      <td>groove</td>\n",
       "      <td>All My Life</td>\n",
       "      <td>K-Ci &amp; JoJo</td>\n",
       "      <td>0.192</td>\n",
       "      <td>0.514</td>\n",
       "      <td>[0.192, 0.514]</td>\n",
       "      <td>0.014422</td>\n",
       "    </tr>\n",
       "    <tr>\n",
       "      <th>1016</th>\n",
       "      <td>2RVHIJWVyGR499tMMQyffm</td>\n",
       "      <td>romance</td>\n",
       "      <td>The Story</td>\n",
       "      <td>Brandi Carlile</td>\n",
       "      <td>0.217</td>\n",
       "      <td>0.504</td>\n",
       "      <td>[0.217, 0.504]</td>\n",
       "      <td>0.027803</td>\n",
       "    </tr>\n",
       "    <tr>\n",
       "      <th>561</th>\n",
       "      <td>7wz9sFeyf7bcRHK0xoNFKp</td>\n",
       "      <td>idm</td>\n",
       "      <td>Ants</td>\n",
       "      <td>edIT</td>\n",
       "      <td>0.168</td>\n",
       "      <td>0.524</td>\n",
       "      <td>[0.168, 0.524]</td>\n",
       "      <td>0.032062</td>\n",
       "    </tr>\n",
       "    <tr>\n",
       "      <th>58</th>\n",
       "      <td>7MXXUCXsi4RlCVRBSvUM4u</td>\n",
       "      <td>anime</td>\n",
       "      <td>傷跡</td>\n",
       "      <td>Kalafina</td>\n",
       "      <td>0.200</td>\n",
       "      <td>0.564</td>\n",
       "      <td>[0.2, 0.564]</td>\n",
       "      <td>0.038000</td>\n",
       "    </tr>\n",
       "  </tbody>\n",
       "</table>\n",
       "</div>"
      ],
      "text/plain": [
       "                          id    genre          track_name     artist_name  \\\n",
       "546   0ew8oK4Yj8IhqE5Q7vpRvW    house  Eyes - R3hab Remix         Kaskade   \n",
       "447   2zDADV891HD9xHi6hAnjQ9   groove         All My Life     K-Ci & JoJo   \n",
       "1016  2RVHIJWVyGR499tMMQyffm  romance           The Story  Brandi Carlile   \n",
       "561   7wz9sFeyf7bcRHK0xoNFKp      idm                Ants            edIT   \n",
       "58    7MXXUCXsi4RlCVRBSvUM4u    anime                  傷跡        Kalafina   \n",
       "\n",
       "      valence  energy        mood_vec  distances  \n",
       "546     0.191   0.525  [0.191, 0.525]   0.009055  \n",
       "447     0.192   0.514  [0.192, 0.514]   0.014422  \n",
       "1016    0.217   0.504  [0.217, 0.504]   0.027803  \n",
       "561     0.168   0.524  [0.168, 0.524]   0.032062  \n",
       "58      0.200   0.564    [0.2, 0.564]   0.038000  "
      ]
     },
     "execution_count": 22,
     "metadata": {},
     "output_type": "execute_result"
    }
   ],
   "source": [
    "track1 = random.choice(df[\"id\"])\n",
    "recommend(track_id = track1, ref_df = df, sp = sp, n_recs = 5)"
   ]
  },
  {
   "cell_type": "code",
   "execution_count": 24,
   "id": "c7442c67-2074-41de-a8c3-0aa633608854",
   "metadata": {},
   "outputs": [
    {
     "name": "stdout",
     "output_type": "stream",
     "text": [
      "mood_vec for 2zDADV891HD9xHi6hAnjQ9: [0.192 0.514]\n"
     ]
    },
    {
     "data": {
      "text/html": [
       "<div>\n",
       "<style scoped>\n",
       "    .dataframe tbody tr th:only-of-type {\n",
       "        vertical-align: middle;\n",
       "    }\n",
       "\n",
       "    .dataframe tbody tr th {\n",
       "        vertical-align: top;\n",
       "    }\n",
       "\n",
       "    .dataframe thead th {\n",
       "        text-align: right;\n",
       "    }\n",
       "</style>\n",
       "<table border=\"1\" class=\"dataframe\">\n",
       "  <thead>\n",
       "    <tr style=\"text-align: right;\">\n",
       "      <th></th>\n",
       "      <th>id</th>\n",
       "      <th>genre</th>\n",
       "      <th>track_name</th>\n",
       "      <th>artist_name</th>\n",
       "      <th>valence</th>\n",
       "      <th>energy</th>\n",
       "      <th>mood_vec</th>\n",
       "      <th>distances</th>\n",
       "    </tr>\n",
       "  </thead>\n",
       "  <tbody>\n",
       "    <tr>\n",
       "      <th>546</th>\n",
       "      <td>0ew8oK4Yj8IhqE5Q7vpRvW</td>\n",
       "      <td>house</td>\n",
       "      <td>Eyes - R3hab Remix</td>\n",
       "      <td>Kaskade</td>\n",
       "      <td>0.191</td>\n",
       "      <td>0.525</td>\n",
       "      <td>[0.191, 0.525]</td>\n",
       "      <td>0.011045</td>\n",
       "    </tr>\n",
       "    <tr>\n",
       "      <th>1108</th>\n",
       "      <td>3DkaXDmC0qaFNAxgLMuwX4</td>\n",
       "      <td>soul</td>\n",
       "      <td>Dontchange</td>\n",
       "      <td>Musiq Soulchild</td>\n",
       "      <td>0.200</td>\n",
       "      <td>0.526</td>\n",
       "      <td>[0.2, 0.526]</td>\n",
       "      <td>0.014422</td>\n",
       "    </tr>\n",
       "    <tr>\n",
       "      <th>561</th>\n",
       "      <td>7wz9sFeyf7bcRHK0xoNFKp</td>\n",
       "      <td>idm</td>\n",
       "      <td>Ants</td>\n",
       "      <td>edIT</td>\n",
       "      <td>0.168</td>\n",
       "      <td>0.524</td>\n",
       "      <td>[0.168, 0.524]</td>\n",
       "      <td>0.026000</td>\n",
       "    </tr>\n",
       "    <tr>\n",
       "      <th>1016</th>\n",
       "      <td>2RVHIJWVyGR499tMMQyffm</td>\n",
       "      <td>romance</td>\n",
       "      <td>The Story</td>\n",
       "      <td>Brandi Carlile</td>\n",
       "      <td>0.217</td>\n",
       "      <td>0.504</td>\n",
       "      <td>[0.217, 0.504]</td>\n",
       "      <td>0.026926</td>\n",
       "    </tr>\n",
       "    <tr>\n",
       "      <th>1191</th>\n",
       "      <td>1KiWN1bwgN14bzjTKSO3T2</td>\n",
       "      <td>techno</td>\n",
       "      <td>Stampede - Original Mix</td>\n",
       "      <td>Dimitri Vegas &amp; Like Mike</td>\n",
       "      <td>0.158</td>\n",
       "      <td>0.520</td>\n",
       "      <td>[0.158, 0.52]</td>\n",
       "      <td>0.034525</td>\n",
       "    </tr>\n",
       "  </tbody>\n",
       "</table>\n",
       "</div>"
      ],
      "text/plain": [
       "                          id    genre               track_name  \\\n",
       "546   0ew8oK4Yj8IhqE5Q7vpRvW    house       Eyes - R3hab Remix   \n",
       "1108  3DkaXDmC0qaFNAxgLMuwX4     soul               Dontchange   \n",
       "561   7wz9sFeyf7bcRHK0xoNFKp      idm                     Ants   \n",
       "1016  2RVHIJWVyGR499tMMQyffm  romance                The Story   \n",
       "1191  1KiWN1bwgN14bzjTKSO3T2   techno  Stampede - Original Mix   \n",
       "\n",
       "                    artist_name  valence  energy        mood_vec  distances  \n",
       "546                     Kaskade    0.191   0.525  [0.191, 0.525]   0.011045  \n",
       "1108            Musiq Soulchild    0.200   0.526    [0.2, 0.526]   0.014422  \n",
       "561                        edIT    0.168   0.524  [0.168, 0.524]   0.026000  \n",
       "1016             Brandi Carlile    0.217   0.504  [0.217, 0.504]   0.026926  \n",
       "1191  Dimitri Vegas & Like Mike    0.158   0.520   [0.158, 0.52]   0.034525  "
      ]
     },
     "execution_count": 24,
     "metadata": {},
     "output_type": "execute_result"
    }
   ],
   "source": [
    "all_my_life = \"2zDADV891HD9xHi6hAnjQ9\"\n",
    "recommend(track_id = all_my_life, ref_df = df, sp = sp, n_recs = 5)"
   ]
  },
  {
   "cell_type": "code",
   "execution_count": 25,
   "id": "9a630013-f7ec-487a-a3a0-3369534e5cbd",
   "metadata": {},
   "outputs": [
    {
     "name": "stdout",
     "output_type": "stream",
     "text": [
      "mood_vec for 7JEQSlU7K7RC12y3gubFq7: [0.651 0.898]\n"
     ]
    },
    {
     "data": {
      "text/html": [
       "<div>\n",
       "<style scoped>\n",
       "    .dataframe tbody tr th:only-of-type {\n",
       "        vertical-align: middle;\n",
       "    }\n",
       "\n",
       "    .dataframe tbody tr th {\n",
       "        vertical-align: top;\n",
       "    }\n",
       "\n",
       "    .dataframe thead th {\n",
       "        text-align: right;\n",
       "    }\n",
       "</style>\n",
       "<table border=\"1\" class=\"dataframe\">\n",
       "  <thead>\n",
       "    <tr style=\"text-align: right;\">\n",
       "      <th></th>\n",
       "      <th>id</th>\n",
       "      <th>genre</th>\n",
       "      <th>track_name</th>\n",
       "      <th>artist_name</th>\n",
       "      <th>valence</th>\n",
       "      <th>energy</th>\n",
       "      <th>mood_vec</th>\n",
       "      <th>distances</th>\n",
       "    </tr>\n",
       "  </thead>\n",
       "  <tbody>\n",
       "    <tr>\n",
       "      <th>1223</th>\n",
       "      <td>7esvnbCJ4v9v6zvCDEJm0v</td>\n",
       "      <td>work-out</td>\n",
       "      <td>Reload (feat. Chip) - Radio Edit [Radio Edit]</td>\n",
       "      <td>Wiley</td>\n",
       "      <td>0.643</td>\n",
       "      <td>0.906</td>\n",
       "      <td>[0.643, 0.906]</td>\n",
       "      <td>0.011314</td>\n",
       "    </tr>\n",
       "    <tr>\n",
       "      <th>1001</th>\n",
       "      <td>3p77WVkXeHl6s9DBaAtUjZ</td>\n",
       "      <td>rockabilly</td>\n",
       "      <td>Long Blonde Hair</td>\n",
       "      <td>The Top Cats</td>\n",
       "      <td>0.645</td>\n",
       "      <td>0.912</td>\n",
       "      <td>[0.645, 0.912]</td>\n",
       "      <td>0.015232</td>\n",
       "    </tr>\n",
       "    <tr>\n",
       "      <th>920</th>\n",
       "      <td>3fttmSWGThBQTNkuHMoCTN</td>\n",
       "      <td>punk</td>\n",
       "      <td>Girl's Not Grey</td>\n",
       "      <td>AFI</td>\n",
       "      <td>0.672</td>\n",
       "      <td>0.905</td>\n",
       "      <td>[0.672, 0.905]</td>\n",
       "      <td>0.022136</td>\n",
       "    </tr>\n",
       "    <tr>\n",
       "      <th>158</th>\n",
       "      <td>1i5ZMT3Qoe35MgKpoJYbm7</td>\n",
       "      <td>children</td>\n",
       "      <td>Time for Your Check Up</td>\n",
       "      <td>Various Artists</td>\n",
       "      <td>0.632</td>\n",
       "      <td>0.911</td>\n",
       "      <td>[0.632, 0.911]</td>\n",
       "      <td>0.023022</td>\n",
       "    </tr>\n",
       "    <tr>\n",
       "      <th>1148</th>\n",
       "      <td>5tXyNhNcsnn7HbcABntOSf</td>\n",
       "      <td>summer</td>\n",
       "      <td>DJ Got Us Fallin' In Love</td>\n",
       "      <td>Usher</td>\n",
       "      <td>0.669</td>\n",
       "      <td>0.878</td>\n",
       "      <td>[0.669, 0.878]</td>\n",
       "      <td>0.026907</td>\n",
       "    </tr>\n",
       "  </tbody>\n",
       "</table>\n",
       "</div>"
      ],
      "text/plain": [
       "                          id       genre  \\\n",
       "1223  7esvnbCJ4v9v6zvCDEJm0v    work-out   \n",
       "1001  3p77WVkXeHl6s9DBaAtUjZ  rockabilly   \n",
       "920   3fttmSWGThBQTNkuHMoCTN        punk   \n",
       "158   1i5ZMT3Qoe35MgKpoJYbm7    children   \n",
       "1148  5tXyNhNcsnn7HbcABntOSf      summer   \n",
       "\n",
       "                                         track_name      artist_name  valence  \\\n",
       "1223  Reload (feat. Chip) - Radio Edit [Radio Edit]            Wiley    0.643   \n",
       "1001                               Long Blonde Hair     The Top Cats    0.645   \n",
       "920                                 Girl's Not Grey              AFI    0.672   \n",
       "158                          Time for Your Check Up  Various Artists    0.632   \n",
       "1148                      DJ Got Us Fallin' In Love            Usher    0.669   \n",
       "\n",
       "      energy        mood_vec  distances  \n",
       "1223   0.906  [0.643, 0.906]   0.011314  \n",
       "1001   0.912  [0.645, 0.912]   0.015232  \n",
       "920    0.905  [0.672, 0.905]   0.022136  \n",
       "158    0.911  [0.632, 0.911]   0.023022  \n",
       "1148   0.878  [0.669, 0.878]   0.026907  "
      ]
     },
     "execution_count": 25,
     "metadata": {},
     "output_type": "execute_result"
    }
   ],
   "source": [
    "vitamin = \"7JEQSlU7K7RC12y3gubFq7\"\n",
    "recommend(track_id = vitamin, ref_df = df, sp = sp, n_recs = 5)"
   ]
  },
  {
   "cell_type": "markdown",
   "id": "755ccd59",
   "metadata": {},
   "source": []
  }
 ],
 "metadata": {
  "kernelspec": {
   "display_name": "Python 3",
   "language": "python",
   "name": "python3"
  },
  "language_info": {
   "codemirror_mode": {
    "name": "ipython",
    "version": 3
   },
   "file_extension": ".py",
   "mimetype": "text/x-python",
   "name": "python",
   "nbconvert_exporter": "python",
   "pygments_lexer": "ipython3",
   "version": "3.9.6"
  }
 },
 "nbformat": 4,
 "nbformat_minor": 5
}
